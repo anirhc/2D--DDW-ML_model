{
 "cells": [
  {
   "cell_type": "markdown",
   "id": "e40c7e53",
   "metadata": {},
   "source": [
    "# Task 2"
   ]
  },
  {
   "cell_type": "markdown",
   "id": "1a9342f2",
   "metadata": {},
   "source": [
    "### Our Goal:\n",
    "To predict the number of COVID-19 cases in the United States.\n"
   ]
  },
  {
   "cell_type": "markdown",
   "id": "21afc182",
   "metadata": {},
   "source": [
    "### Importing the necessary libraries:"
   ]
  },
  {
   "cell_type": "code",
   "execution_count": 212,
   "id": "a26e6210",
   "metadata": {},
   "outputs": [],
   "source": [
    "import pandas as pd\n",
    "import matplotlib.pyplot as plt\n",
    "import seaborn as sns\n",
    "import numpy as np"
   ]
  },
  {
   "cell_type": "markdown",
   "id": "319b6709",
   "metadata": {},
   "source": [
    "### Preparing & Importing the Datasets:"
   ]
  },
  {
   "cell_type": "markdown",
   "id": "7cb36e6c",
   "metadata": {},
   "source": [
    "Our main dataset was obtained from https://ourworldindata.org/covid-deaths \\\n",
    "The dataset contains various statistics related to COVID-19 which included but not limited to number of deaths and vaccination rates classified according to the different countries."
   ]
  },
  {
   "cell_type": "code",
   "execution_count": 213,
   "id": "020297f1",
   "metadata": {
    "scrolled": false
   },
   "outputs": [
    {
     "data": {
      "text/html": [
       "<div>\n",
       "<style scoped>\n",
       "    .dataframe tbody tr th:only-of-type {\n",
       "        vertical-align: middle;\n",
       "    }\n",
       "\n",
       "    .dataframe tbody tr th {\n",
       "        vertical-align: top;\n",
       "    }\n",
       "\n",
       "    .dataframe thead th {\n",
       "        text-align: right;\n",
       "    }\n",
       "</style>\n",
       "<table border=\"1\" class=\"dataframe\">\n",
       "  <thead>\n",
       "    <tr style=\"text-align: right;\">\n",
       "      <th></th>\n",
       "      <th>iso_code</th>\n",
       "      <th>continent</th>\n",
       "      <th>location</th>\n",
       "      <th>date</th>\n",
       "      <th>total_cases</th>\n",
       "      <th>new_cases</th>\n",
       "      <th>new_cases_smoothed</th>\n",
       "      <th>total_deaths</th>\n",
       "      <th>new_deaths</th>\n",
       "      <th>new_deaths_smoothed</th>\n",
       "      <th>...</th>\n",
       "      <th>female_smokers</th>\n",
       "      <th>male_smokers</th>\n",
       "      <th>handwashing_facilities</th>\n",
       "      <th>hospital_beds_per_thousand</th>\n",
       "      <th>life_expectancy</th>\n",
       "      <th>human_development_index</th>\n",
       "      <th>excess_mortality_cumulative_absolute</th>\n",
       "      <th>excess_mortality_cumulative</th>\n",
       "      <th>excess_mortality</th>\n",
       "      <th>excess_mortality_cumulative_per_million</th>\n",
       "    </tr>\n",
       "  </thead>\n",
       "  <tbody>\n",
       "    <tr>\n",
       "      <th>0</th>\n",
       "      <td>AFG</td>\n",
       "      <td>Asia</td>\n",
       "      <td>Afghanistan</td>\n",
       "      <td>2020-02-24</td>\n",
       "      <td>5.0</td>\n",
       "      <td>5.0</td>\n",
       "      <td>NaN</td>\n",
       "      <td>NaN</td>\n",
       "      <td>NaN</td>\n",
       "      <td>NaN</td>\n",
       "      <td>...</td>\n",
       "      <td>NaN</td>\n",
       "      <td>NaN</td>\n",
       "      <td>37.746</td>\n",
       "      <td>0.5</td>\n",
       "      <td>64.83</td>\n",
       "      <td>0.511</td>\n",
       "      <td>NaN</td>\n",
       "      <td>NaN</td>\n",
       "      <td>NaN</td>\n",
       "      <td>NaN</td>\n",
       "    </tr>\n",
       "    <tr>\n",
       "      <th>1</th>\n",
       "      <td>AFG</td>\n",
       "      <td>Asia</td>\n",
       "      <td>Afghanistan</td>\n",
       "      <td>2020-02-25</td>\n",
       "      <td>5.0</td>\n",
       "      <td>0.0</td>\n",
       "      <td>NaN</td>\n",
       "      <td>NaN</td>\n",
       "      <td>NaN</td>\n",
       "      <td>NaN</td>\n",
       "      <td>...</td>\n",
       "      <td>NaN</td>\n",
       "      <td>NaN</td>\n",
       "      <td>37.746</td>\n",
       "      <td>0.5</td>\n",
       "      <td>64.83</td>\n",
       "      <td>0.511</td>\n",
       "      <td>NaN</td>\n",
       "      <td>NaN</td>\n",
       "      <td>NaN</td>\n",
       "      <td>NaN</td>\n",
       "    </tr>\n",
       "    <tr>\n",
       "      <th>2</th>\n",
       "      <td>AFG</td>\n",
       "      <td>Asia</td>\n",
       "      <td>Afghanistan</td>\n",
       "      <td>2020-02-26</td>\n",
       "      <td>5.0</td>\n",
       "      <td>0.0</td>\n",
       "      <td>NaN</td>\n",
       "      <td>NaN</td>\n",
       "      <td>NaN</td>\n",
       "      <td>NaN</td>\n",
       "      <td>...</td>\n",
       "      <td>NaN</td>\n",
       "      <td>NaN</td>\n",
       "      <td>37.746</td>\n",
       "      <td>0.5</td>\n",
       "      <td>64.83</td>\n",
       "      <td>0.511</td>\n",
       "      <td>NaN</td>\n",
       "      <td>NaN</td>\n",
       "      <td>NaN</td>\n",
       "      <td>NaN</td>\n",
       "    </tr>\n",
       "    <tr>\n",
       "      <th>3</th>\n",
       "      <td>AFG</td>\n",
       "      <td>Asia</td>\n",
       "      <td>Afghanistan</td>\n",
       "      <td>2020-02-27</td>\n",
       "      <td>5.0</td>\n",
       "      <td>0.0</td>\n",
       "      <td>NaN</td>\n",
       "      <td>NaN</td>\n",
       "      <td>NaN</td>\n",
       "      <td>NaN</td>\n",
       "      <td>...</td>\n",
       "      <td>NaN</td>\n",
       "      <td>NaN</td>\n",
       "      <td>37.746</td>\n",
       "      <td>0.5</td>\n",
       "      <td>64.83</td>\n",
       "      <td>0.511</td>\n",
       "      <td>NaN</td>\n",
       "      <td>NaN</td>\n",
       "      <td>NaN</td>\n",
       "      <td>NaN</td>\n",
       "    </tr>\n",
       "    <tr>\n",
       "      <th>4</th>\n",
       "      <td>AFG</td>\n",
       "      <td>Asia</td>\n",
       "      <td>Afghanistan</td>\n",
       "      <td>2020-02-28</td>\n",
       "      <td>5.0</td>\n",
       "      <td>0.0</td>\n",
       "      <td>NaN</td>\n",
       "      <td>NaN</td>\n",
       "      <td>NaN</td>\n",
       "      <td>NaN</td>\n",
       "      <td>...</td>\n",
       "      <td>NaN</td>\n",
       "      <td>NaN</td>\n",
       "      <td>37.746</td>\n",
       "      <td>0.5</td>\n",
       "      <td>64.83</td>\n",
       "      <td>0.511</td>\n",
       "      <td>NaN</td>\n",
       "      <td>NaN</td>\n",
       "      <td>NaN</td>\n",
       "      <td>NaN</td>\n",
       "    </tr>\n",
       "    <tr>\n",
       "      <th>...</th>\n",
       "      <td>...</td>\n",
       "      <td>...</td>\n",
       "      <td>...</td>\n",
       "      <td>...</td>\n",
       "      <td>...</td>\n",
       "      <td>...</td>\n",
       "      <td>...</td>\n",
       "      <td>...</td>\n",
       "      <td>...</td>\n",
       "      <td>...</td>\n",
       "      <td>...</td>\n",
       "      <td>...</td>\n",
       "      <td>...</td>\n",
       "      <td>...</td>\n",
       "      <td>...</td>\n",
       "      <td>...</td>\n",
       "      <td>...</td>\n",
       "      <td>...</td>\n",
       "      <td>...</td>\n",
       "      <td>...</td>\n",
       "      <td>...</td>\n",
       "    </tr>\n",
       "    <tr>\n",
       "      <th>135365</th>\n",
       "      <td>ZWE</td>\n",
       "      <td>Africa</td>\n",
       "      <td>Zimbabwe</td>\n",
       "      <td>2021-11-19</td>\n",
       "      <td>133593.0</td>\n",
       "      <td>0.0</td>\n",
       "      <td>37.714</td>\n",
       "      <td>4699.0</td>\n",
       "      <td>0.0</td>\n",
       "      <td>0.714</td>\n",
       "      <td>...</td>\n",
       "      <td>1.6</td>\n",
       "      <td>30.7</td>\n",
       "      <td>36.791</td>\n",
       "      <td>1.7</td>\n",
       "      <td>61.49</td>\n",
       "      <td>0.571</td>\n",
       "      <td>NaN</td>\n",
       "      <td>NaN</td>\n",
       "      <td>NaN</td>\n",
       "      <td>NaN</td>\n",
       "    </tr>\n",
       "    <tr>\n",
       "      <th>135366</th>\n",
       "      <td>ZWE</td>\n",
       "      <td>Africa</td>\n",
       "      <td>Zimbabwe</td>\n",
       "      <td>2021-11-20</td>\n",
       "      <td>133615.0</td>\n",
       "      <td>22.0</td>\n",
       "      <td>31.714</td>\n",
       "      <td>4699.0</td>\n",
       "      <td>0.0</td>\n",
       "      <td>0.429</td>\n",
       "      <td>...</td>\n",
       "      <td>1.6</td>\n",
       "      <td>30.7</td>\n",
       "      <td>36.791</td>\n",
       "      <td>1.7</td>\n",
       "      <td>61.49</td>\n",
       "      <td>0.571</td>\n",
       "      <td>NaN</td>\n",
       "      <td>NaN</td>\n",
       "      <td>NaN</td>\n",
       "      <td>NaN</td>\n",
       "    </tr>\n",
       "    <tr>\n",
       "      <th>135367</th>\n",
       "      <td>ZWE</td>\n",
       "      <td>Africa</td>\n",
       "      <td>Zimbabwe</td>\n",
       "      <td>2021-11-21</td>\n",
       "      <td>133647.0</td>\n",
       "      <td>32.0</td>\n",
       "      <td>31.286</td>\n",
       "      <td>4699.0</td>\n",
       "      <td>0.0</td>\n",
       "      <td>0.429</td>\n",
       "      <td>...</td>\n",
       "      <td>1.6</td>\n",
       "      <td>30.7</td>\n",
       "      <td>36.791</td>\n",
       "      <td>1.7</td>\n",
       "      <td>61.49</td>\n",
       "      <td>0.571</td>\n",
       "      <td>NaN</td>\n",
       "      <td>NaN</td>\n",
       "      <td>NaN</td>\n",
       "      <td>NaN</td>\n",
       "    </tr>\n",
       "    <tr>\n",
       "      <th>135368</th>\n",
       "      <td>ZWE</td>\n",
       "      <td>Africa</td>\n",
       "      <td>Zimbabwe</td>\n",
       "      <td>2021-11-22</td>\n",
       "      <td>133674.0</td>\n",
       "      <td>27.0</td>\n",
       "      <td>33.714</td>\n",
       "      <td>4699.0</td>\n",
       "      <td>0.0</td>\n",
       "      <td>0.286</td>\n",
       "      <td>...</td>\n",
       "      <td>1.6</td>\n",
       "      <td>30.7</td>\n",
       "      <td>36.791</td>\n",
       "      <td>1.7</td>\n",
       "      <td>61.49</td>\n",
       "      <td>0.571</td>\n",
       "      <td>NaN</td>\n",
       "      <td>NaN</td>\n",
       "      <td>NaN</td>\n",
       "      <td>NaN</td>\n",
       "    </tr>\n",
       "    <tr>\n",
       "      <th>135369</th>\n",
       "      <td>ZWE</td>\n",
       "      <td>Africa</td>\n",
       "      <td>Zimbabwe</td>\n",
       "      <td>2021-11-23</td>\n",
       "      <td>133674.0</td>\n",
       "      <td>0.0</td>\n",
       "      <td>24.143</td>\n",
       "      <td>4699.0</td>\n",
       "      <td>0.0</td>\n",
       "      <td>0.143</td>\n",
       "      <td>...</td>\n",
       "      <td>1.6</td>\n",
       "      <td>30.7</td>\n",
       "      <td>36.791</td>\n",
       "      <td>1.7</td>\n",
       "      <td>61.49</td>\n",
       "      <td>0.571</td>\n",
       "      <td>NaN</td>\n",
       "      <td>NaN</td>\n",
       "      <td>NaN</td>\n",
       "      <td>NaN</td>\n",
       "    </tr>\n",
       "  </tbody>\n",
       "</table>\n",
       "<p>135370 rows × 67 columns</p>\n",
       "</div>"
      ],
      "text/plain": [
       "       iso_code continent     location        date  total_cases  new_cases  \\\n",
       "0           AFG      Asia  Afghanistan  2020-02-24          5.0        5.0   \n",
       "1           AFG      Asia  Afghanistan  2020-02-25          5.0        0.0   \n",
       "2           AFG      Asia  Afghanistan  2020-02-26          5.0        0.0   \n",
       "3           AFG      Asia  Afghanistan  2020-02-27          5.0        0.0   \n",
       "4           AFG      Asia  Afghanistan  2020-02-28          5.0        0.0   \n",
       "...         ...       ...          ...         ...          ...        ...   \n",
       "135365      ZWE    Africa     Zimbabwe  2021-11-19     133593.0        0.0   \n",
       "135366      ZWE    Africa     Zimbabwe  2021-11-20     133615.0       22.0   \n",
       "135367      ZWE    Africa     Zimbabwe  2021-11-21     133647.0       32.0   \n",
       "135368      ZWE    Africa     Zimbabwe  2021-11-22     133674.0       27.0   \n",
       "135369      ZWE    Africa     Zimbabwe  2021-11-23     133674.0        0.0   \n",
       "\n",
       "        new_cases_smoothed  total_deaths  new_deaths  new_deaths_smoothed  \\\n",
       "0                      NaN           NaN         NaN                  NaN   \n",
       "1                      NaN           NaN         NaN                  NaN   \n",
       "2                      NaN           NaN         NaN                  NaN   \n",
       "3                      NaN           NaN         NaN                  NaN   \n",
       "4                      NaN           NaN         NaN                  NaN   \n",
       "...                    ...           ...         ...                  ...   \n",
       "135365              37.714        4699.0         0.0                0.714   \n",
       "135366              31.714        4699.0         0.0                0.429   \n",
       "135367              31.286        4699.0         0.0                0.429   \n",
       "135368              33.714        4699.0         0.0                0.286   \n",
       "135369              24.143        4699.0         0.0                0.143   \n",
       "\n",
       "        ...  female_smokers  male_smokers  handwashing_facilities  \\\n",
       "0       ...             NaN           NaN                  37.746   \n",
       "1       ...             NaN           NaN                  37.746   \n",
       "2       ...             NaN           NaN                  37.746   \n",
       "3       ...             NaN           NaN                  37.746   \n",
       "4       ...             NaN           NaN                  37.746   \n",
       "...     ...             ...           ...                     ...   \n",
       "135365  ...             1.6          30.7                  36.791   \n",
       "135366  ...             1.6          30.7                  36.791   \n",
       "135367  ...             1.6          30.7                  36.791   \n",
       "135368  ...             1.6          30.7                  36.791   \n",
       "135369  ...             1.6          30.7                  36.791   \n",
       "\n",
       "        hospital_beds_per_thousand  life_expectancy  human_development_index  \\\n",
       "0                              0.5            64.83                    0.511   \n",
       "1                              0.5            64.83                    0.511   \n",
       "2                              0.5            64.83                    0.511   \n",
       "3                              0.5            64.83                    0.511   \n",
       "4                              0.5            64.83                    0.511   \n",
       "...                            ...              ...                      ...   \n",
       "135365                         1.7            61.49                    0.571   \n",
       "135366                         1.7            61.49                    0.571   \n",
       "135367                         1.7            61.49                    0.571   \n",
       "135368                         1.7            61.49                    0.571   \n",
       "135369                         1.7            61.49                    0.571   \n",
       "\n",
       "        excess_mortality_cumulative_absolute  excess_mortality_cumulative  \\\n",
       "0                                        NaN                          NaN   \n",
       "1                                        NaN                          NaN   \n",
       "2                                        NaN                          NaN   \n",
       "3                                        NaN                          NaN   \n",
       "4                                        NaN                          NaN   \n",
       "...                                      ...                          ...   \n",
       "135365                                   NaN                          NaN   \n",
       "135366                                   NaN                          NaN   \n",
       "135367                                   NaN                          NaN   \n",
       "135368                                   NaN                          NaN   \n",
       "135369                                   NaN                          NaN   \n",
       "\n",
       "        excess_mortality  excess_mortality_cumulative_per_million  \n",
       "0                    NaN                                      NaN  \n",
       "1                    NaN                                      NaN  \n",
       "2                    NaN                                      NaN  \n",
       "3                    NaN                                      NaN  \n",
       "4                    NaN                                      NaN  \n",
       "...                  ...                                      ...  \n",
       "135365               NaN                                      NaN  \n",
       "135366               NaN                                      NaN  \n",
       "135367               NaN                                      NaN  \n",
       "135368               NaN                                      NaN  \n",
       "135369               NaN                                      NaN  \n",
       "\n",
       "[135370 rows x 67 columns]"
      ]
     },
     "execution_count": 213,
     "metadata": {},
     "output_type": "execute_result"
    }
   ],
   "source": [
    "file_url = 'https://covid.ourworldindata.org/data/owid-covid-data.csv'\n",
    "df = pd.read_csv(file_url)\n",
    "df"
   ]
  },
  {
   "cell_type": "markdown",
   "id": "255e2c3b",
   "metadata": {},
   "source": [
    "### Cleaning the data:\n",
    "\n",
    "Firstly, we select the columns that we require from the dataset which includes our target and features. \n",
    "\n",
    "We then select the row as \"United States\", since we are focusing on a single country. \n",
    "\n",
    "Finally we use the dropna() function to clean the dataset, removing the empty columns."
   ]
  },
  {
   "cell_type": "code",
   "execution_count": 214,
   "id": "54dac80b",
   "metadata": {},
   "outputs": [
    {
     "data": {
      "text/html": [
       "<div>\n",
       "<style scoped>\n",
       "    .dataframe tbody tr th:only-of-type {\n",
       "        vertical-align: middle;\n",
       "    }\n",
       "\n",
       "    .dataframe tbody tr th {\n",
       "        vertical-align: top;\n",
       "    }\n",
       "\n",
       "    .dataframe thead th {\n",
       "        text-align: right;\n",
       "    }\n",
       "</style>\n",
       "<table border=\"1\" class=\"dataframe\">\n",
       "  <thead>\n",
       "    <tr style=\"text-align: right;\">\n",
       "      <th></th>\n",
       "      <th>new_cases_smoothed_per_million</th>\n",
       "      <th>hosp_patients_per_million</th>\n",
       "      <th>people_vaccinated_per_hundred</th>\n",
       "      <th>gdp_per_capita</th>\n",
       "      <th>population_density</th>\n",
       "    </tr>\n",
       "  </thead>\n",
       "  <tbody>\n",
       "    <tr>\n",
       "      <th>128074</th>\n",
       "      <td>654.839</td>\n",
       "      <td>322.611</td>\n",
       "      <td>0.01</td>\n",
       "      <td>54225.446</td>\n",
       "      <td>35.608</td>\n",
       "    </tr>\n",
       "    <tr>\n",
       "      <th>128075</th>\n",
       "      <td>659.336</td>\n",
       "      <td>329.480</td>\n",
       "      <td>0.01</td>\n",
       "      <td>54225.446</td>\n",
       "      <td>35.608</td>\n",
       "    </tr>\n",
       "    <tr>\n",
       "      <th>128076</th>\n",
       "      <td>655.519</td>\n",
       "      <td>333.406</td>\n",
       "      <td>0.02</td>\n",
       "      <td>54225.446</td>\n",
       "      <td>35.608</td>\n",
       "    </tr>\n",
       "    <tr>\n",
       "      <th>128077</th>\n",
       "      <td>663.909</td>\n",
       "      <td>336.449</td>\n",
       "      <td>0.07</td>\n",
       "      <td>54225.446</td>\n",
       "      <td>35.608</td>\n",
       "    </tr>\n",
       "    <tr>\n",
       "      <th>128078</th>\n",
       "      <td>665.005</td>\n",
       "      <td>337.759</td>\n",
       "      <td>0.14</td>\n",
       "      <td>54225.446</td>\n",
       "      <td>35.608</td>\n",
       "    </tr>\n",
       "    <tr>\n",
       "      <th>...</th>\n",
       "      <td>...</td>\n",
       "      <td>...</td>\n",
       "      <td>...</td>\n",
       "      <td>...</td>\n",
       "      <td>...</td>\n",
       "    </tr>\n",
       "    <tr>\n",
       "      <th>128414</th>\n",
       "      <td>285.186</td>\n",
       "      <td>135.197</td>\n",
       "      <td>68.29</td>\n",
       "      <td>54225.446</td>\n",
       "      <td>35.608</td>\n",
       "    </tr>\n",
       "    <tr>\n",
       "      <th>128415</th>\n",
       "      <td>277.810</td>\n",
       "      <td>135.572</td>\n",
       "      <td>68.43</td>\n",
       "      <td>54225.446</td>\n",
       "      <td>35.608</td>\n",
       "    </tr>\n",
       "    <tr>\n",
       "      <th>128416</th>\n",
       "      <td>278.093</td>\n",
       "      <td>134.656</td>\n",
       "      <td>68.54</td>\n",
       "      <td>54225.446</td>\n",
       "      <td>35.608</td>\n",
       "    </tr>\n",
       "    <tr>\n",
       "      <th>128417</th>\n",
       "      <td>277.474</td>\n",
       "      <td>135.906</td>\n",
       "      <td>68.58</td>\n",
       "      <td>54225.446</td>\n",
       "      <td>35.608</td>\n",
       "    </tr>\n",
       "    <tr>\n",
       "      <th>128418</th>\n",
       "      <td>285.538</td>\n",
       "      <td>139.729</td>\n",
       "      <td>68.59</td>\n",
       "      <td>54225.446</td>\n",
       "      <td>35.608</td>\n",
       "    </tr>\n",
       "  </tbody>\n",
       "</table>\n",
       "<p>345 rows × 5 columns</p>\n",
       "</div>"
      ],
      "text/plain": [
       "        new_cases_smoothed_per_million  hosp_patients_per_million  \\\n",
       "128074                         654.839                    322.611   \n",
       "128075                         659.336                    329.480   \n",
       "128076                         655.519                    333.406   \n",
       "128077                         663.909                    336.449   \n",
       "128078                         665.005                    337.759   \n",
       "...                                ...                        ...   \n",
       "128414                         285.186                    135.197   \n",
       "128415                         277.810                    135.572   \n",
       "128416                         278.093                    134.656   \n",
       "128417                         277.474                    135.906   \n",
       "128418                         285.538                    139.729   \n",
       "\n",
       "        people_vaccinated_per_hundred  gdp_per_capita  population_density  \n",
       "128074                           0.01       54225.446              35.608  \n",
       "128075                           0.01       54225.446              35.608  \n",
       "128076                           0.02       54225.446              35.608  \n",
       "128077                           0.07       54225.446              35.608  \n",
       "128078                           0.14       54225.446              35.608  \n",
       "...                               ...             ...                 ...  \n",
       "128414                          68.29       54225.446              35.608  \n",
       "128415                          68.43       54225.446              35.608  \n",
       "128416                          68.54       54225.446              35.608  \n",
       "128417                          68.58       54225.446              35.608  \n",
       "128418                          68.59       54225.446              35.608  \n",
       "\n",
       "[345 rows x 5 columns]"
      ]
     },
     "execution_count": 214,
     "metadata": {},
     "output_type": "execute_result"
    }
   ],
   "source": [
    "columns = [\"new_cases_smoothed_per_million\",\"hosp_patients_per_million\",\"people_vaccinated_per_hundred\",\"gdp_per_capita\",\"population_density\"]\n",
    "\n",
    "selector = df['location']=='United States'\n",
    "df1 = df.loc[selector,columns]\n",
    "df2 = df1.dropna()\n",
    "df2"
   ]
  },
  {
   "cell_type": "markdown",
   "id": "0d38609d",
   "metadata": {},
   "source": [
    "### Functions we will use:"
   ]
  },
  {
   "cell_type": "markdown",
   "id": "f8163a9b",
   "metadata": {},
   "source": [
    "`normalize_z(df)`: Normalizes the feature using z normalization\n",
    "\n",
    "`get_features_targets(df, feature_names, target_names)`: Gets columns for the features and the targets from the input argument data frame\n",
    "\n",
    "`prepare_feature(df_feature)`: Takes in a data frame for the feature. The function will convert the data frame into a numpy array and change it into a column vector. The function will also add a column of constant 1s in the first column\n",
    "\n",
    "`prepare_target(df_target)`: Takes in a dataframe for the target. \\The function will convert thte dataframe into a numpy array and change it into column vectors.\n",
    "\n",
    "`predict(df_feature, beta)`: Standardizes the feature using z normalization and changes it to a numpy array. A column of 1s will also be added to the numpy array. The function then calls `predict_norm(X, beta)` to get the predicted y values\n",
    "\n",
    "`predict_norm(X, beta)`: Calculates the straight line equation after standardization and adding of column for constant 1\n",
    "\n"
   ]
  },
  {
   "cell_type": "code",
   "execution_count": 215,
   "id": "45c78eb6",
   "metadata": {},
   "outputs": [],
   "source": [
    "def normalize_z(df):\n",
    "    return (df - df.mean(axis=0)) / df.std(axis=0)\n",
    "\n",
    "def get_features_targets(df, feature_names, target_names):\n",
    "    df_feature = df[feature_names]\n",
    "    df_target = df[target_names]\n",
    "    return df_feature, df_target\n",
    "\n",
    "def prepare_feature(df_feature):\n",
    "    cols = len(df_feature.columns)\n",
    "    feature = df_feature.to_numpy()\n",
    "    number_of_samples = feature.shape[0]\n",
    "    return np.concatenate((np.ones((number_of_samples,1)), feature), axis=1)\n",
    "\n",
    "def prepare_target(df_target):\n",
    "    return df_target.to_numpy()\n",
    "\n",
    "def predict(df_feature, beta):\n",
    "    X = prepare_feature(normalize_z(df_feature))\n",
    "    return predict_norm(X, beta)\n",
    "\n",
    "def predict_norm(X, beta):\n",
    "    return np.matmul(X,beta)\n",
    "\n",
    "def split_data(df_feature, df_target, random_state=None, test_size=0.5):\n",
    "    indices = df_target.index\n",
    "    if random_state is not None:\n",
    "        np.random.seed(random_state)\n",
    "    num_rows = len(indices)\n",
    "    k = int(test_size * num_rows)\n",
    "    test_indices = np.random.choice(indices, k, replace = False)\n",
    "    train_indices = set(indices) - set(test_indices)\n",
    "    df_feature_train = df_feature.loc[train_indices, :]\n",
    "    df_feature_test = df_feature.loc[test_indices, :]\n",
    "    df_target_train = df_target.loc[train_indices, :]\n",
    "    df_target_test = df_target.loc[test_indices, :]\n",
    "    \n",
    "    return df_feature_train, df_feature_test, df_target_train, df_target_test"
   ]
  },
  {
   "cell_type": "markdown",
   "id": "13003c0c",
   "metadata": {},
   "source": [
    "### Building our model:"
   ]
  },
  {
   "cell_type": "markdown",
   "id": "29323bc6",
   "metadata": {},
   "source": [
    "**Target:** \n",
    "- new_cases_smoothed_per_million \n",
    "\n",
    "**Features:** \n",
    "- hosp_patients_per_million, people_vaccinated_per_hundred, gdp_per_capita, population_density"
   ]
  },
  {
   "cell_type": "markdown",
   "id": "df65d5b6",
   "metadata": {},
   "source": [
    "**Step 1:** Select desired features and targets from the raw data frame"
   ]
  },
  {
   "cell_type": "code",
   "execution_count": 216,
   "id": "6e520f01",
   "metadata": {},
   "outputs": [],
   "source": [
    "df_features, df_target = get_features_targets(df2,[\"hosp_patients_per_million\",\"people_vaccinated_per_hundred\",\"gdp_per_capita\",\"population_density\"],[\"new_cases_smoothed_per_million\"])"
   ]
  },
  {
   "cell_type": "markdown",
   "id": "cdc74444",
   "metadata": {},
   "source": [
    "**Step 2:** Plot the various features against the target to observe their relationship"
   ]
  },
  {
   "cell_type": "code",
   "execution_count": 217,
   "id": "ec287b9e",
   "metadata": {},
   "outputs": [
    {
     "data": {
      "text/plain": [
       "Text(0.5, 0, 'hospital patients per million')"
      ]
     },
     "execution_count": 217,
     "metadata": {},
     "output_type": "execute_result"
    },
    {
     "data": {
      "image/png": "[encoded data removed]",
      "text/plain": [
       "<Figure size 432x288 with 1 Axes>"
      ]
     },
     "metadata": {},
     "output_type": "display_data"
    }
   ],
   "source": [
    "plt.scatter(df_features[\"hosp_patients_per_million\"], df_target)\n",
    "plt.ylabel(\"new cases smoothed per million\")\n",
    "plt.xlabel(\"hospital patients per million\")"
   ]
  },
  {
   "cell_type": "code",
   "execution_count": 218,
   "id": "8af1953f",
   "metadata": {},
   "outputs": [
    {
     "data": {
      "text/plain": [
       "Text(0.5, 0, 'people vaccinated per hundred')"
      ]
     },
     "execution_count": 218,
     "metadata": {},
     "output_type": "execute_result"
    },
    {
     "data": {
      "image/png": "[encoded data removed]",
      "text/plain": [
       "<Figure size 432x288 with 1 Axes>"
      ]
     },
     "metadata": {},
     "output_type": "display_data"
    }
   ],
   "source": [
    "plt.scatter(df_features[\"people_vaccinated_per_hundred\"], df_target)\n",
    "plt.ylabel(\"new cases smoothed per million\")\n",
    "plt.xlabel(\"people vaccinated per hundred\")"
   ]
  },
  {
   "cell_type": "code",
   "execution_count": 219,
   "id": "96df33f8",
   "metadata": {},
   "outputs": [
    {
     "data": {
      "text/plain": [
       "Text(0.5, 0, 'GDP per capita')"
      ]
     },
     "execution_count": 219,
     "metadata": {},
     "output_type": "execute_result"
    },
    {
     "data": {
      "image/png": "[encoded data removed]",
      "text/plain": [
       "<Figure size 432x288 with 1 Axes>"
      ]
     },
     "metadata": {},
     "output_type": "display_data"
    }
   ],
   "source": [
    "plt.scatter(df_features[\"gdp_per_capita\"], df_target)\n",
    "plt.ylabel(\"new cases smoothed per million\")\n",
    "plt.xlabel(\"GDP per capita\")"
   ]
  },
  {
   "cell_type": "code",
   "execution_count": 220,
   "id": "3b37bb2c",
   "metadata": {},
   "outputs": [
    {
     "data": {
      "text/plain": [
       "Text(0.5, 0, 'population')"
      ]
     },
     "execution_count": 220,
     "metadata": {},
     "output_type": "execute_result"
    },
    {
     "data": {
      "image/png": "[encoded data removed]",
      "text/plain": [
       "<Figure size 432x288 with 1 Axes>"
      ]
     },
     "metadata": {},
     "output_type": "display_data"
    }
   ],
   "source": [
    "plt.scatter(df_features[\"population_density\"], df_target)\n",
    "plt.ylabel(\"new cases smoothed per million\")\n",
    "plt.xlabel(\"population\")"
   ]
  },
  {
   "cell_type": "markdown",
   "id": "f051144c",
   "metadata": {},
   "source": [
    "**Step 3:** Split the data set into training and test sets\n",
    "\n",
    "**Step 4:** Normalize the features using z normalization\n",
    "\n",
    "**Step 5:** Convert the predictors into a numpy array and add a column of 1s\n",
    "\n",
    "**Step 6:** Convert the target into a numpy array"
   ]
  },
  {
   "cell_type": "code",
   "execution_count": 221,
   "id": "f5a0a0d6",
   "metadata": {},
   "outputs": [],
   "source": [
    "df_features_train, df_features_test, df_target_train, df_target_test = split_data(df_features, df_target, random_state=100, test_size=0.3)\n",
    "df_features_train_z = normalize_z(df_features_train)\n",
    "X = prepare_feature(df_features_train_z)\n",
    "target = prepare_target(df_target_train)"
   ]
  },
  {
   "cell_type": "markdown",
   "id": "d6741075",
   "metadata": {},
   "source": [
    "`compute_cost(X, y, beta)`: Computes the cost function of a linear regression model. The function takes in two 2-D numpy arrays.\n",
    "\n",
    "`gradient_descent` : To estimate beta values. The idea is to repeat steps in the opposite direction of the gradient (or approximate gradient) of the function at the current point, to find a local minimum of a differentiable function, in this case, the `compute_cost(X, y, beta)` function."
   ]
  },
  {
   "cell_type": "code",
   "execution_count": 222,
   "id": "d0dc1d02",
   "metadata": {},
   "outputs": [],
   "source": [
    "def compute_cost(X, y, beta):\n",
    "    J = 0\n",
    "    m = y.shape[0]\n",
    "    yp = np.matmul(X,beta)\n",
    "    error = yp - y\n",
    "    J = (1/(2*m)) * np.matmul(error.T, error)\n",
    "    J = J[0][0]\n",
    "    return J\n",
    "\n",
    "def gradient_descent(X, y, beta, alpha, num_iters):\n",
    "    J_storage = np.zeros(num_iters) \n",
    "    m = y.shape[0] \n",
    "    for i in range(num_iters):\n",
    "        predicted_y = np.matmul(X, beta) \n",
    "        errors = predicted_y - y \n",
    "        beta = beta - (alpha/m) * np.matmul(X.transpose(), errors) \n",
    "        J_storage[i] = compute_cost(X, y, beta)\n",
    "    return beta, J_storage"
   ]
  },
  {
   "cell_type": "markdown",
   "id": "b22b34eb",
   "metadata": {},
   "source": [
    "**Step 7:** Call gradient descent function to estimate values of beta"
   ]
  },
  {
   "cell_type": "code",
   "execution_count": 223,
   "id": "e719fffd",
   "metadata": {},
   "outputs": [],
   "source": [
    "iterations = 1500\n",
    "alpha = 0.01\n",
    "beta = np.zeros((X.shape[1],1))\n",
    "\n",
    "beta, J_storage = gradient_descent(X, target, beta, alpha, iterations)"
   ]
  },
  {
   "cell_type": "markdown",
   "id": "95bcbb48",
   "metadata": {},
   "source": [
    "**Step 8:** Call `predict()` function to obtain predicted x and y values based on obtained beta values and change target test set to a numpy array"
   ]
  },
  {
   "cell_type": "code",
   "execution_count": 224,
   "id": "6041b639",
   "metadata": {},
   "outputs": [],
   "source": [
    "pred = predict(df_features_test, beta)\n",
    "target_test = df_target_test.to_numpy()"
   ]
  },
  {
   "cell_type": "markdown",
   "id": "db23d52a",
   "metadata": {},
   "source": [
    "**Step 9:** Plot various features against target and pred to observe model"
   ]
  },
  {
   "cell_type": "code",
   "execution_count": 225,
   "id": "01d787a1",
   "metadata": {},
   "outputs": [
    {
     "data": {
      "text/plain": [
       "Text(0.5, 0, 'hospital patients per million')"
      ]
     },
     "execution_count": 225,
     "metadata": {},
     "output_type": "execute_result"
    },
    {
     "data": {
      "image/png": "[encoded data removed]",
      "text/plain": [
       "<Figure size 432x288 with 1 Axes>"
      ]
     },
     "metadata": {},
     "output_type": "display_data"
    }
   ],
   "source": [
    "plt.scatter(df_features_test[\"hosp_patients_per_million\"], target_test)\n",
    "plt.scatter(df_features_test[\"hosp_patients_per_million\"], pred)\n",
    "plt.ylabel(\"new cases smoothed per million\")\n",
    "plt.xlabel(\"hospital patients per million\")"
   ]
  },
  {
   "cell_type": "code",
   "execution_count": 226,
   "id": "d97084aa",
   "metadata": {},
   "outputs": [
    {
     "data": {
      "text/plain": [
       "Text(0.5, 0, 'people vaccinated per hundred')"
      ]
     },
     "execution_count": 226,
     "metadata": {},
     "output_type": "execute_result"
    },
    {
     "data": {
      "image/png": "[encoded data removed]",
      "text/plain": [
       "<Figure size 432x288 with 1 Axes>"
      ]
     },
     "metadata": {},
     "output_type": "display_data"
    }
   ],
   "source": [
    "plt.scatter(df_features_test[\"people_vaccinated_per_hundred\"], target_test)\n",
    "plt.scatter(df_features_test[\"people_vaccinated_per_hundred\"], pred)\n",
    "plt.ylabel(\"new cases smoothed per million\")\n",
    "plt.xlabel(\"people vaccinated per hundred\")"
   ]
  },
  {
   "cell_type": "code",
   "execution_count": 227,
   "id": "fb5039fd",
   "metadata": {},
   "outputs": [
    {
     "data": {
      "text/plain": [
       "Text(0.5, 0, 'GDP per capita')"
      ]
     },
     "execution_count": 227,
     "metadata": {},
     "output_type": "execute_result"
    },
    {
     "data": {
      "image/png": "[encoded data removed]",
      "text/plain": [
       "<Figure size 432x288 with 1 Axes>"
      ]
     },
     "metadata": {},
     "output_type": "display_data"
    }
   ],
   "source": [
    "plt.scatter(df_features_test[\"gdp_per_capita\"], target_test)\n",
    "plt.scatter(df_features_test[\"gdp_per_capita\"], pred)\n",
    "plt.ylabel(\"new cases smoothed per million\")\n",
    "plt.xlabel(\"GDP per capita\")"
   ]
  },
  {
   "cell_type": "code",
   "execution_count": 228,
   "id": "7a82f15f",
   "metadata": {},
   "outputs": [
    {
     "data": {
      "text/plain": [
       "Text(0.5, 0, 'population')"
      ]
     },
     "execution_count": 228,
     "metadata": {},
     "output_type": "execute_result"
    },
    {
     "data": {
      "image/png": "[encoded data removed]",
      "text/plain": [
       "<Figure size 432x288 with 1 Axes>"
      ]
     },
     "metadata": {},
     "output_type": "display_data"
    }
   ],
   "source": [
    "plt.scatter(df_features_test[\"population_density\"], target_test)\n",
    "plt.scatter(df_features_test[\"population_density\"], pred)\n",
    "plt.ylabel(\"new cases smoothed per million\")\n",
    "plt.xlabel(\"population\")"
   ]
  },
  {
   "cell_type": "markdown",
   "id": "b097c878",
   "metadata": {},
   "source": [
    "### Metrics to assess our model:"
   ]
  },
  {
   "cell_type": "markdown",
   "id": "35281091",
   "metadata": {},
   "source": [
    "`r2_score`: R2 coefficient of determination $$r^2 = 1 - \\frac{SS_{res}}{SS_{tot}}$$\n",
    "where\n",
    "\n",
    "$$SS_{res} = \\Sigma_{i=1}^n(y_i - \\hat{y}_i)^2$$\n",
    "\n",
    "$$SS_{tot} = \\Sigma_{i=1}^n (y_i - \\overline{y})^2$$\n",
    "\n",
    "\n",
    "`mean_squared_error`: $$MSE = \\frac{1}{n}\\Sigma_{i=1}^n(y_i - \\hat{y}_i)^2$$\n",
    "\n",
    "$y_i$ is the actual target value and $\\hat{y}_i$ is the predicted target value.\n",
    "$n$ is the number of target values.\n",
    "\n"
   ]
  },
  {
   "cell_type": "code",
   "execution_count": 229,
   "id": "3d5118ca",
   "metadata": {},
   "outputs": [],
   "source": [
    "def r2_score(y, ypred):\n",
    "    y_mean = np.mean(y)\n",
    "    ss_res = np.sum((y-ypred)**2)\n",
    "    ss_tot = np.sum((y - y_mean)**2)\n",
    "    return 1 - (ss_res/ss_tot)\n",
    "\n",
    "def mean_squared_error(target, pred):\n",
    "    n = target.shape[0]\n",
    "    return 1/n * np.sum((target-pred)**2)"
   ]
  },
  {
   "cell_type": "markdown",
   "id": "92cfc4d6",
   "metadata": {},
   "source": [
    "Calculating R2:"
   ]
  },
  {
   "cell_type": "code",
   "execution_count": 230,
   "id": "3cbf057f",
   "metadata": {},
   "outputs": [
    {
     "name": "stdout",
     "output_type": "stream",
     "text": [
      "0.9465917168845952\n"
     ]
    }
   ],
   "source": [
    "r2 = r2_score(target_test, pred)\n",
    "print(r2)"
   ]
  },
  {
   "cell_type": "markdown",
   "id": "9b8bd6ac",
   "metadata": {},
   "source": [
    "Calculating Mean Squared Error:"
   ]
  },
  {
   "cell_type": "code",
   "execution_count": 231,
   "id": "938a0983",
   "metadata": {},
   "outputs": [
    {
     "name": "stdout",
     "output_type": "stream",
     "text": [
      "2028.7374601858207\n"
     ]
    }
   ],
   "source": [
    "mse = mean_squared_error(target_test, pred)\n",
    "print(mse)"
   ]
  },
  {
   "cell_type": "markdown",
   "id": "36404c5d",
   "metadata": {},
   "source": [
    "We now find the error percentage between our actual values and predicted values:"
   ]
  },
  {
   "cell_type": "code",
   "execution_count": 232,
   "id": "38643d32",
   "metadata": {},
   "outputs": [
    {
     "name": "stdout",
     "output_type": "stream",
     "text": [
      "0.15162007642284497\n"
     ]
    }
   ],
   "source": [
    "import math\n",
    "\n",
    "target_avg = target_test.mean()\n",
    "error_avg = math.sqrt(mse)\n",
    "error_p = error_avg/target_avg\n",
    "\n",
    "print(error_p)"
   ]
  },
  {
   "cell_type": "markdown",
   "id": "bc6b9fd2",
   "metadata": {},
   "source": [
    "### Improvements:\n",
    "\n",
    "What if we removed the static data (GDP_per_capita, population_density)?"
   ]
  },
  {
   "cell_type": "markdown",
   "id": "0cbb6dd2",
   "metadata": {},
   "source": [
    "Repeating above steps:"
   ]
  },
  {
   "cell_type": "code",
   "execution_count": 233,
   "id": "bc19379d",
   "metadata": {},
   "outputs": [],
   "source": [
    "df_features, df_target = get_features_targets(df2,[\"hosp_patients_per_million\",\"people_vaccinated_per_hundred\"],[\"new_cases_smoothed_per_million\"])\n",
    "\n",
    "df_features_train, df_features_test, df_target_train, df_target_test = split_data(df_features, df_target, random_state=100, test_size=0.3)\n",
    "\n",
    "df_features_train_z = normalize_z(df_features_train)\n",
    "\n",
    "X = prepare_feature(df_features_train_z)\n",
    "target = prepare_target(df_target_train)\n",
    "\n",
    "iterations = 1500\n",
    "alpha = 0.01\n",
    "beta = np.zeros((X.shape[1],1))\n",
    "\n",
    "beta, J_storage = gradient_descent(X, target, beta, alpha, iterations)\n",
    "\n",
    "pred = predict(df_features_test, beta)\n",
    "\n",
    "target_test = df_target_test.to_numpy()"
   ]
  },
  {
   "cell_type": "markdown",
   "id": "1ba96596",
   "metadata": {},
   "source": [
    "Calculating R2:"
   ]
  },
  {
   "cell_type": "code",
   "execution_count": 234,
   "id": "c08fe8e3",
   "metadata": {},
   "outputs": [
    {
     "name": "stdout",
     "output_type": "stream",
     "text": [
      "0.9472969987802077\n"
     ]
    }
   ],
   "source": [
    "r2 = r2_score(target_test, pred)\n",
    "print(r2)"
   ]
  },
  {
   "cell_type": "markdown",
   "id": "5ad88a28",
   "metadata": {},
   "source": [
    "Calculating MSE:"
   ]
  },
  {
   "cell_type": "code",
   "execution_count": 235,
   "id": "6d3bcf3e",
   "metadata": {},
   "outputs": [
    {
     "name": "stdout",
     "output_type": "stream",
     "text": [
      "2001.947012746644\n"
     ]
    }
   ],
   "source": [
    "mse = mean_squared_error(target_test, pred)\n",
    "print(mse)"
   ]
  },
  {
   "cell_type": "markdown",
   "id": "57f001fb",
   "metadata": {},
   "source": [
    "We now find the error percentage between our actual values and predicted values:"
   ]
  },
  {
   "cell_type": "code",
   "execution_count": 236,
   "id": "56ffc8e8",
   "metadata": {},
   "outputs": [
    {
     "name": "stdout",
     "output_type": "stream",
     "text": [
      "0.1506156416175858\n"
     ]
    }
   ],
   "source": [
    "import math\n",
    "\n",
    "target_avg = target_test.mean()\n",
    "error_avg = math.sqrt(mse)\n",
    "error_p = error_avg/target_avg\n",
    "\n",
    "print(error_p)"
   ]
  },
  {
   "cell_type": "markdown",
   "id": "e686b7ee",
   "metadata": {},
   "source": [
    "### Discussion and Analysis"
   ]
  },
  {
   "cell_type": "markdown",
   "id": "88c00bcd",
   "metadata": {},
   "source": [
    "We can see that when static data was removed, the MSE decreased from about 2028.8 to 2001.9.\n",
    "\n",
    "Error percentage also decreased from 16% to 15%"
   ]
  },
  {
   "cell_type": "markdown",
   "id": "82311406",
   "metadata": {},
   "source": [
    "This shows that removing static data improves our model, albeit just a little bit."
   ]
  }
 ],
 "metadata": {
  "kernelspec": {
   "display_name": "Python 3 (ipykernel)",
   "language": "python",
   "name": "python3"
  },
  "language_info": {
   "codemirror_mode": {
    "name": "ipython",
    "version": 3
   },
   "file_extension": ".py",
   "mimetype": "text/x-python",
   "name": "python",
   "nbconvert_exporter": "python",
   "pygments_lexer": "ipython3",
   "version": "3.8.11"
  }
 },
 "nbformat": 4,
 "nbformat_minor": 5
}
